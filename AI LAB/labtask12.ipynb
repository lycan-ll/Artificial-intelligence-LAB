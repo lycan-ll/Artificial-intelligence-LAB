{
 "cells": [
  {
   "cell_type": "code",
   "execution_count": 2,
   "id": "c7fbce19",
   "metadata": {},
   "outputs": [],
   "source": [
    "import numpy as np\n",
    "import random "
   ]
  },
  {
   "cell_type": "code",
   "execution_count": 3,
   "id": "ee6c6ea3",
   "metadata": {},
   "outputs": [
    {
     "data": {
      "text/plain": [
       "array([[1, 1, 1, 1],\n",
       "       [1, 1, 1, 1],\n",
       "       [1, 1, 1, 1],\n",
       "       [1, 1, 1, 1]])"
      ]
     },
     "execution_count": 3,
     "metadata": {},
     "output_type": "execute_result"
    }
   ],
   "source": [
    "# 2D array\n",
    "s = (4,4)\n",
    "arr2d = np.ones(s, dtype=int)\n",
    "arr2d"
   ]
  },
  {
   "cell_type": "code",
   "execution_count": 4,
   "id": "3d8c7702",
   "metadata": {},
   "outputs": [
    {
     "name": "stdout",
     "output_type": "stream",
     "text": [
      "[1 1 1 1 1 1 1 1 1 1 1 1 1 1 1 1]\n"
     ]
    }
   ],
   "source": [
    "# Flatten\n",
    "arr2d = arr2d.flatten()\n",
    "print(arr2d)"
   ]
  },
  {
   "cell_type": "code",
   "execution_count": 5,
   "id": "8a9a419c",
   "metadata": {},
   "outputs": [
    {
     "data": {
      "text/plain": [
       "(16,)"
      ]
     },
     "execution_count": 5,
     "metadata": {},
     "output_type": "execute_result"
    }
   ],
   "source": [
    "arr2d.shape"
   ]
  },
  {
   "cell_type": "code",
   "execution_count": 6,
   "id": "13b506e8",
   "metadata": {},
   "outputs": [
    {
     "data": {
      "text/plain": [
       "array([[0, 0, 0, 0],\n",
       "       [0, 0, 0, 0],\n",
       "       [0, 0, 0, 0],\n",
       "       [0, 0, 0, 0]])"
      ]
     },
     "execution_count": 6,
     "metadata": {},
     "output_type": "execute_result"
    }
   ],
   "source": [
    "s = (4,4)\n",
    "arr1d = np.zeros(s, dtype=int)\n",
    "arr1d"
   ]
  },
  {
   "cell_type": "code",
   "execution_count": 7,
   "id": "57f6de31",
   "metadata": {},
   "outputs": [
    {
     "data": {
      "text/plain": [
       "(4, 4)"
      ]
     },
     "execution_count": 7,
     "metadata": {},
     "output_type": "execute_result"
    }
   ],
   "source": [
    "arr1d.shape"
   ]
  },
  {
   "cell_type": "code",
   "execution_count": 8,
   "id": "f7aaa301",
   "metadata": {},
   "outputs": [
    {
     "data": {
      "text/plain": [
       "array([1, 1, 1, 1, 1, 1, 1, 1, 1, 1, 1, 1, 1, 1, 1, 1])"
      ]
     },
     "execution_count": 8,
     "metadata": {},
     "output_type": "execute_result"
    }
   ],
   "source": [
    "# Define the initial and goal states\n",
    "initial_state = np.zeros((4, 4), dtype=int)\n",
    "goal_state = np.ones((4, 4), dtype=int)\n",
    "\n",
    "# Convert the 2D array to a 1D array of length 16\n",
    "initial_chromosome = initial_state.reshape(16)\n",
    "\n",
    "def calculate_fitness(chromosome):\n",
    "    # Calculate the fitness value of a chromosome as the number of ones in the array\n",
    "    return np.count_nonzero(chromosome == 1)\n",
    "\n",
    "def selection(population, fitnesses):\n",
    "    # Add a small positive constant to fitness values to avoid zero probabilities\n",
    "    fitnesses = np.array(fitnesses) + 1e-6\n",
    "    # Calculate the selection probabilities based on fitness values\n",
    "    total_fitness = sum(fitnesses)\n",
    "    selection_probabilities = [fitness / total_fitness for fitness in fitnesses]\n",
    "    # Normalize the selection probabilities\n",
    "    selection_probabilities = [prob / sum(selection_probabilities) for prob in selection_probabilities]\n",
    "    # Select two parents randomly using the selection probabilities\n",
    "    parents_indices = np.random.choice(len(population), size=2, replace=False, p=selection_probabilities)\n",
    "    parents = [population[i] for i in parents_indices]\n",
    "    return parents\n",
    "\n",
    "\n",
    "\n",
    "def crossover(parents):\n",
    "    # Perform a single-point crossover operation on the selected parents\n",
    "    crossover_point = random.randint(0, len(parents[0]))\n",
    "    child1 = np.concatenate((parents[0][:crossover_point], parents[1][crossover_point:]))\n",
    "    child2 = np.concatenate((parents[1][:crossover_point], parents[0][crossover_point:]))\n",
    "    return [child1, child2]\n",
    "\n",
    "def mutation(children, mutation_rate):\n",
    "    # Apply the mutation operator with a low probability value to introduce new genetic material\n",
    "    for i in range(len(children)):\n",
    "        for j in range(len(children[i])):\n",
    "            if np.random.rand() < mutation_rate:\n",
    "                children[i][j] = 1 - children[i][j]\n",
    "    return children\n",
    "\n",
    "def genetic_algorithm(population, max_iterations, mutation_rate):\n",
    "    # Initialize iteration counter\n",
    "    iteration = 0\n",
    "\n",
    "    # Repeat until max_iterations or solution is found\n",
    "    while iteration < max_iterations:\n",
    "        # Evaluate fitness of population\n",
    "        fitnesses = [calculate_fitness(chromosome) for chromosome in population]\n",
    "\n",
    "        # Check for solution\n",
    "        if np.max(fitnesses) == len(initial_chromosome):\n",
    "            return population[np.argmax(fitnesses)]\n",
    "\n",
    "        # Select parents\n",
    "        parents = selection(population, fitnesses)\n",
    "\n",
    "        # Generate children through crossover\n",
    "        children = crossover(parents)\n",
    "\n",
    "        # Apply mutation to children\n",
    "        children = mutation(children, mutation_rate)\n",
    "\n",
    "        # Calculate fitness values of the new children\n",
    "        children_fitness = [calculate_fitness(child) for child in children]\n",
    "\n",
    "        # Check if any of the children is a solution\n",
    "        if np.max(children_fitness) == len(initial_chromosome):\n",
    "            return children[np.argmax(children_fitness)]\n",
    "\n",
    "        # Replace the least fit members of the population with the new children\n",
    "        worst_fitness_indices = np.argsort(fitnesses)[:len(children)]\n",
    "        for i, child in enumerate(children):\n",
    "            population[worst_fitness_indices[i]] = child\n",
    "\n",
    "        # Increment iteration counter\n",
    "        iteration += 1\n",
    "\n",
    "    # Return best solution found\n",
    "    return population[np.argmax(fitnesses)]\n",
    "\n",
    "# Generate an initial population of chromosomes\n",
    "population_size = 20\n",
    "population = [initial_chromosome for i in range(population_size)]\n",
    "\n",
    "# Set the maximum number of iterations and mutation rate\n",
    "max_iterations = 1000\n",
    "mutation_rate = 0.01\n",
    "\n",
    "# Run the genetic algorithm to find a solution\n",
    "solution = genetic_algorithm(population, max_iterations, mutation_rate)\n",
    "\n",
    "solution"
   ]
  },
  {
   "cell_type": "code",
   "execution_count": null,
   "id": "ab7f73e7",
   "metadata": {},
   "outputs": [],
   "source": []
  }
 ],
 "metadata": {
  "kernelspec": {
   "display_name": "Python 3 (ipykernel)",
   "language": "python",
   "name": "python3"
  },
  "language_info": {
   "codemirror_mode": {
    "name": "ipython",
    "version": 3
   },
   "file_extension": ".py",
   "mimetype": "text/x-python",
   "name": "python",
   "nbconvert_exporter": "python",
   "pygments_lexer": "ipython3",
   "version": "3.9.13"
  }
 },
 "nbformat": 4,
 "nbformat_minor": 5
}
