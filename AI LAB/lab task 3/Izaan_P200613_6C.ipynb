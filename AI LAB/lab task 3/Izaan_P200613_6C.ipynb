{
 "cells": [
  {
   "cell_type": "code",
   "execution_count": 1,
   "id": "eb30b2eb",
   "metadata": {},
   "outputs": [
    {
     "name": "stdout",
     "output_type": "stream",
     "text": [
      "[1, 0, 1]\n",
      "['Best', 'Can Watch aslo', 'Can Watch aslo']\n"
     ]
    }
   ],
   "source": [
    "import numpy as np\n",
    "def euclideanDistance(p1, p2):\n",
    "    distance = np.sqrt(np.sum((p1 - p2)**2))\n",
    "    return distance\n",
    "\n",
    "# The KNN class\n",
    "class KNN:\n",
    "    def __init__(self, k):   \n",
    "        self.k = k\n",
    "    def train_model(self, X, Y):    # Storing dataset and labels\n",
    "        self.rating = X\n",
    "        self.results = Y\n",
    "        \n",
    "    def predict_data(self, X):\n",
    "       \n",
    "        predictions = []\n",
    "\n",
    "        for i in range(X.shape[0]):\n",
    "            # Calculate the distance between each item in X and each item in the data set\n",
    "            distances = [euclideanDistance(X[i], x) for x in self.rating]\n",
    "            \n",
    "            # Slice and selects the first k indices, which correspond to the k closest neighbors.\n",
    "            indices = np.argsort(distances)[:self.k]\n",
    "            \n",
    "            # Get the labels of the k closest neighbors\n",
    "            kneighbors = [self.results[index] for index in indices]\n",
    "            \n",
    "            # Predict the label for the item by selecting the most common label among the k closest neighbors\n",
    "            label = max(set(kneighbors), key=kneighbors.count)\n",
    "            predictions.append(label)\n",
    "\n",
    "        return predictions\n",
    "\n",
    "# creating instance\n",
    "knn = KNN(k=3)   \n",
    "\n",
    "rating = np.array([[1, 2], [3, 4], [5, 6], [7, 8], [9, 10]])\n",
    "results = np.array([1, 1, 0, 1, 0])\n",
    "knn.train_model(rating, results)\n",
    "\n",
    "\n",
    "test_data = np.array([[3, 2], [7, 8], [4, 3]])\n",
    "prediction_result = knn.predict_data(test_data)\n",
    "\n",
    "print(prediction_result)\n",
    "labels = ['Best' if isinstance(i, int) and i == 0 else 'Can Watch aslo' for i in range(len(prediction_result))]\n",
    "print(labels)"
   ]
  },
  {
   "cell_type": "code",
   "execution_count": 4,
   "id": "3cd29927",
   "metadata": {},
   "outputs": [
    {
     "data": {
      "text/plain": [
       "Text(0.5, 1.0, 'Accuracy Score for Different Values of K')"
      ]
     },
     "execution_count": 4,
     "metadata": {},
     "output_type": "execute_result"
    },
    {
     "data": {
      "image/png": "[encoded data removed]",
      "text/plain": [
       "<Figure size 640x480 with 1 Axes>"
      ]
     },
     "metadata": {},
     "output_type": "display_data"
    }
   ],
   "source": [
    "import numpy as np\n",
    "import pandas as pd\n",
    "import matplotlib.pyplot as plt\n",
    "\n",
    "# a. Read and load the data into the program.\n",
    "data = pd.read_csv('fruit_data_with_colors _1_.csv')\n",
    "\n",
    "# b. Prepare the data by eliminating any features that contain text or categorical values.\n",
    "data = data.select_dtypes(include=[np.number])\n",
    "\n",
    "# c. Address missing values by replacing them with the mean value of each column, if necessary.\n",
    "data = data.fillna(data.mean())\n",
    "\n",
    "\n",
    "# d. Divide the data into training and testing sets, with the first 50 rows being used for training and the remaining 10 rows being used for testing.\n",
    "\n",
    "train_data = data.iloc[:50, :-1]            # First 50 rows, all columns except the last\n",
    "lst_col = data.iloc[:50, -1]                # First 50 rows, last column\n",
    "test_data = data.iloc[50:, :-1]             # Remaining 10 rows, all columns except the last\n",
    "accuracy_data = data.iloc[50:, -1]          # Remaining 10 rows, last column\n",
    "\n",
    "# Calulate distance between two points\n",
    "def euclideanDistance(p1, p2):\n",
    "    distance = np.sqrt(np.sum((p1 - p2)**2))\n",
    "    return distance\n",
    "\n",
    "# The KNN class\n",
    "class KNN:\n",
    "    def __init__(self, k):   # Constructor\n",
    "        self.k = k\n",
    "        \n",
    "    def train_model(self, X, Y):\n",
    "       # Storing dataset and labels\n",
    "        self.train_data = X\n",
    "        self.lst_col = Y\n",
    "\n",
    "        \n",
    "    def predict_data(self, X):\n",
    "       \n",
    "        predictions = []\n",
    "\n",
    "        for i in range(X.shape[0]):\n",
    "            # Calculate the distance between each item in X and each item in the data set\n",
    "            distances = [euclideanDistance(X.iloc[i, :], x) for x in self.train_data.itertuples(index=False)]\n",
    "            #  the index=False argument is used to exclude the index of each row from the output\n",
    "            \n",
    "            # Slice and selects the first k indices, which correspond to the k closest neighbors.\n",
    "            indices = np.argsort(distances)[:self.k]\n",
    "            \n",
    "            # Get the labels of the k closest neighbors\n",
    "            kneighbors = [self.lst_col.iloc[index] for index in indices]\n",
    "            \n",
    "            # Predict the label for the item by selecting the most common label among the k closest neighbors\n",
    "            label = max(set(kneighbors), key=kneighbors.count)\n",
    "            predictions.append(label)\n",
    "\n",
    "        return predictions\n",
    "\n",
    "\n",
    "\n",
    "# e. Apply the KNN model for different values of K (ranging from 1 to 10) and examine the results.\n",
    "accuracy_scores = []\n",
    "for k in range(1, 11):\n",
    "    knn = KNN(k=k)\n",
    "    knn.train_model(train_data, lst_col)\n",
    "    predictions = knn.predict_data(test_data)\n",
    "    accurate = np.mean(predictions == accuracy_data)\n",
    "    accuracy_scores.append(accurate)\n",
    "\n",
    "# f. Plot the accuracy score for each value of K, to visualize the differences.\n",
    "plt.plot(range(1, 11), accuracy_scores)\n",
    "plt.xlabel('K')\n",
    "plt.ylabel('Accuracy Score')\n",
    "plt.title('Accuracy Score for Different Values of K')"
   ]
  },
  {
   "cell_type": "code",
   "execution_count": null,
   "id": "8b8f1c74",
   "metadata": {},
   "outputs": [],
   "source": []
  }
 ],
 "metadata": {
  "kernelspec": {
   "display_name": "Python 3 (ipykernel)",
   "language": "python",
   "name": "python3"
  },
  "language_info": {
   "codemirror_mode": {
    "name": "ipython",
    "version": 3
   },
   "file_extension": ".py",
   "mimetype": "text/x-python",
   "name": "python",
   "nbconvert_exporter": "python",
   "pygments_lexer": "ipython3",
   "version": "3.9.13"
  }
 },
 "nbformat": 4,
 "nbformat_minor": 5
}
