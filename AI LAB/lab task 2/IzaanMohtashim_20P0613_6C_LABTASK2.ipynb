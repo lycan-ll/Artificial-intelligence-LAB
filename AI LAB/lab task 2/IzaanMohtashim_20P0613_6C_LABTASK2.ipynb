{
 "cells": [
  {
   "cell_type": "markdown",
   "metadata": {},
   "source": [
    "# TASK-1"
   ]
  },
  {
   "cell_type": "code",
   "execution_count": 7,
   "metadata": {},
   "outputs": [
    {
     "name": "stdout",
     "output_type": "stream",
     "text": [
      "ENTER THE TEMPERATURE45\n",
      "Is there smoke in room (Yes or No):YES\n",
      "Smoke is there with normal temperature \n",
      "ALARAM SOUND ON.......\n",
      "\n",
      "SPRINLE SYSTEM ACTIVATED*****\n",
      " state Smokyyyyyy \n"
     ]
    }
   ],
   "source": [
    "class fire_alarm:\n",
    "    def __init__(self):\n",
    "        self.state = \"normal\"\n",
    "    \n",
    "    def set_alarm(self,temp,smoke):\n",
    "        if smoke:\n",
    "            if temp < 50:\n",
    "                print(\"Smoke is there with normal temperature \")\n",
    "                self.state = \"Smokyyyyyy \"\n",
    "                self.sound_alarm()\n",
    "                self.sprinkle_sys()\n",
    "            else:\n",
    "                print(\"Smoke and temperature is greater than 50\")\n",
    "                self.state = \"smoke and High Temp \"\n",
    "                self.sound_alarm()\n",
    "                self.call_fire_dept()\n",
    "        else:\n",
    "            if temp < 50:\n",
    "                print(\"smoke not detected with normal temperature \")\n",
    "                self.state = \"Normal temperature with no smoke\"\n",
    "            else:\n",
    "                print(\"No Smoke and temperature is greater than 50\")\n",
    "                self.state = \"No smoke and High Temp \"\n",
    "                self.sound_alarm()\n",
    "                self.call_fire_dept()\n",
    "                self.sprinkle.sys()\n",
    "        \n",
    "\n",
    "\n",
    "    def sound_alarm(self):\n",
    "            print(\"ALARAM SOUND ON.......\\n\")\n",
    "    def sprinkle_sys(self):\n",
    "            print(\"SPRINLE SYSTEM ACTIVATED*****\")\n",
    "    def call_fire_dept(self):\n",
    "        print(\"CALLING THE FIRE DEPT*******\")\n",
    "    def __str__(self):\n",
    "        return f\" state {self.state}\"\n",
    "\n",
    "fire_alarm = fire_alarm()\n",
    "\n",
    "temperature = int(input(\"ENTER THE TEMPERATURE\"))\n",
    "Smoke = input(\"Is there smoke in room (Yes or No):\")\n",
    "\n",
    "fire_alarm.set_alarm(temperature,Smoke)\n",
    "print(fire_alarm)\n"
   ]
  },
  {
   "cell_type": "markdown",
   "metadata": {},
   "source": [
    "# TASK-2"
   ]
  },
  {
   "cell_type": "code",
   "execution_count": 8,
   "metadata": {},
   "outputs": [
    {
     "name": "stdout",
     "output_type": "stream",
     "text": [
      "Enter the moisture level: 34\n",
      "Moisture level is adequate, doing nothing...\n"
     ]
    }
   ],
   "source": [
    "import logging\n",
    "class Moisture_Sensor:\n",
    "    \n",
    "    #setting the initial state \n",
    "    def __init__(self, threshold_dry, threshold_moist, threshold_wet):\n",
    "        self.threshold_dry = threshold_dry\n",
    "        self.threshold_moist = threshold_moist\n",
    "        self.threshold_wet = threshold_wet\n",
    "        \n",
    "    #Comparing to check the current state\n",
    "    def read_moisture(self):\n",
    "        try:\n",
    "            # Read moisture level from the sensor\n",
    "            moisture_level = float(input(\"Enter the moisture level: \"))\n",
    "            if moisture_level <= self.threshold_dry:\n",
    "                return \"Dry soil\"\n",
    "            elif moisture_level <= self.threshold_moist:\n",
    "                return \"Moist soil\"\n",
    "            elif moisture_level <= self.threshold_wet:\n",
    "                return \"Wet soil\"\n",
    "            else:\n",
    "                raise ValueError(\"Invalid moisture level\")\n",
    "        except Exception as e:\n",
    "            logging.error(\"Error reading moisture level: %s\", e)\n",
    "\n",
    "            \n",
    "class Water_Control_Unit:\n",
    "    def __init__(self, sensor):\n",
    "        self.sensor = sensor\n",
    "        \n",
    "    def run(self):\n",
    "        moisture_state = self.sensor.read_moisture()\n",
    "        if moisture_state == \"Dry soil\":\n",
    "            self.water_plants()\n",
    "        elif moisture_state == \"Moist soil\":\n",
    "            self.do_nothing()\n",
    "        elif moisture_state == \"Wet soil\":\n",
    "            self.stop_watering()\n",
    "        else:\n",
    "            raise ValueError(\"Invalid moisture state\")\n",
    "            \n",
    "    #Function for printing\n",
    "    def water_plants(self):\n",
    "        print(\"Watering plants...\")\n",
    "        \n",
    "    def do_nothing(self):\n",
    "        print(\"Moisture level is adequate, doing nothing...\")\n",
    "        \n",
    "    def stop_watering(self):\n",
    "        print(\"Moisture level is high, stopping watering...\")\n",
    "\n",
    "        \n",
    "#Main function and setting threshold value         \n",
    "if __name__ == \"__main__\":\n",
    "    logging.basicConfig(filename=\"watering_system.log\", level=logging.ERROR)\n",
    "    \n",
    "    # Set threshold values for each soil state\n",
    "    threshold_dry = 20.0\n",
    "    threshold_moist = 40.0\n",
    "    threshold_wet = 60.0\n",
    "\n",
    "    sensor = Moisture_Sensor(threshold_dry, threshold_moist, threshold_wet)\n",
    "    control_unit = Water_Control_Unit(sensor)\n",
    "    control_unit.run()\n"
   ]
  },
  {
   "cell_type": "code",
   "execution_count": null,
   "metadata": {},
   "outputs": [],
   "source": []
  },
  {
   "cell_type": "code",
   "execution_count": null,
   "metadata": {},
   "outputs": [],
   "source": []
  }
 ],
 "metadata": {
  "kernelspec": {
   "display_name": "Python 3 (ipykernel)",
   "language": "python",
   "name": "python3"
  },
  "language_info": {
   "codemirror_mode": {
    "name": "ipython",
    "version": 3
   },
   "file_extension": ".py",
   "mimetype": "text/x-python",
   "name": "python",
   "nbconvert_exporter": "python",
   "pygments_lexer": "ipython3",
   "version": "3.9.13"
  }
 },
 "nbformat": 4,
 "nbformat_minor": 4
}
